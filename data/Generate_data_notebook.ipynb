{
 "cells": [
  {
   "cell_type": "code",
   "execution_count": null,
   "id": "c86f326f-0140-4a27-94b7-79c5d7b46026",
   "metadata": {
    "tags": []
   },
   "outputs": [],
   "source": [
    "using Pkg\n",
    "Pkg.activate(\".\")\n",
    "\n",
    "# oneliner to run this notebook! julia -e 'using IJulia; IJulia.installkernel(\"Julia\"); run(`jupyter nbconvert --to script Generate_data_notebook.ipynb --stdout | julia`);'"
   ]
  },
  {
   "cell_type": "code",
   "execution_count": null,
   "id": "6b7dc691-d97e-45db-ae37-9659abde0bc1",
   "metadata": {
    "tags": []
   },
   "outputs": [],
   "source": [
    "include(\"generate_hypercube.jl\")\n"
   ]
  },
  {
   "cell_type": "code",
   "execution_count": null,
   "id": "c9527b39-c505-425a-8097-2aa4e9fc815b",
   "metadata": {
    "tags": []
   },
   "outputs": [],
   "source": [
    "hyper_cube = generate_hypercube(;var_steps=2,\n",
    "        cycle_types=[:rankine, :brayton],\n",
    "        power_range=(lower=1e6,upper=1e9),\n",
    "        breeder_heat_load_fraction_range=(lower=0.5,upper=0.99),\n",
    "        divertor_heat_load_fraction_range=(lower=0.1,upper=0.9))\n",
    "\n",
    "println(\"N cases = $(length(hyper_cube.cases))\")"
   ]
  },
  {
   "cell_type": "code",
   "execution_count": null,
   "id": "44ca02c5-a987-47d2-b5ed-85be5fbcf102",
   "metadata": {
    "tags": []
   },
   "outputs": [],
   "source": [
    "run_hypercube!(hyper_cube,pwd())\n",
    "\n",
    "describe(hyper_cube.df)"
   ]
  },
  {
   "cell_type": "code",
   "execution_count": null,
   "id": "c97eae09-c275-4f29-880a-fda734fced30",
   "metadata": {
    "tags": []
   },
   "outputs": [],
   "source": []
  }
 ],
 "metadata": {
  "kernelspec": {
   "display_name": "Julia (8 threads) 1.10.4",
   "language": "julia",
   "name": "julia-_8-threads_-1.10"
  },
  "language_info": {
   "file_extension": ".jl",
   "mimetype": "application/julia",
   "name": "julia",
   "version": "1.10.4"
  }
 },
 "nbformat": 4,
 "nbformat_minor": 5
}
