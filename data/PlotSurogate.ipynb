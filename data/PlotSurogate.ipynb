{
 "cells": [
  {
   "cell_type": "code",
   "execution_count": null,
   "id": "8a8cd1d6-c13d-480c-bc8e-7f6026671ad7",
   "metadata": {
    "tags": []
   },
   "outputs": [],
   "source": [
    "using Revise\n",
    "using Pkg\n",
    "Pkg.activate(\".\")\n",
    "using Plots\n",
    "using BalanceOfPlantSurrogate"
   ]
  },
  {
   "cell_type": "code",
   "execution_count": null,
   "id": "f9bb2f0f-bba6-4907-966a-afe0c0a0d797",
   "metadata": {
    "tags": []
   },
   "outputs": [],
   "source": [
    "# get the model and data\n",
    "BOP_rankine = BalanceOfPlantSurrogate.BOPSurogate(:rankine;data=\"BalanceOfPlantHypercubeN=10000.csv\")\n",
    "BOP_brayton = BalanceOfPlantSurrogate.BOPSurogate(:brayton;data=\"BalanceOfPlantHypercubeN=10000.csv\")\n",
    "\n",
    "BalanceOfPlantSurrogate.thermal_efficiency_fractions(BOP_rankine,1e8,0.5,0.2), BalanceOfPlantSurrogate.thermal_efficiency_fractions(BOP_brayton,1e8,0.5,0.2)"
   ]
  },
  {
   "cell_type": "code",
   "execution_count": null,
   "id": "a3cfa109-ff57-4cc4-9c1c-b4dd3bf767df",
   "metadata": {
    "tags": []
   },
   "outputs": [],
   "source": [
    "BalanceOfPlantSurrogate.thermal_efficiency_fractions(BOP_rankine,1e9,0.5,0.2), BalanceOfPlantSurrogate.thermal_efficiency_fractions(BOP_brayton,1e9,0.5,0.2)"
   ]
  },
  {
   "cell_type": "code",
   "execution_count": null,
   "id": "34d93e02-3c33-45d3-bdc7-df1c513f7e0d",
   "metadata": {
    "tags": []
   },
   "outputs": [],
   "source": [
    "# plot the data\n",
    "scatter(log10.(BOP_brayton.data.total_heat_load),BOP_brayton.data.thermal_efficiency_plant,label=\"brayton\")\n",
    "scatter!(log10.(BOP_rankine.data.total_heat_load),BOP_rankine.data.thermal_efficiency_plant,ylim=(-1.0,1.0),label=\"rankine\",ylabel=\"thermal plant efficiency\",xlabel=\"total heat supplied\")\n"
   ]
  },
  {
   "cell_type": "code",
   "execution_count": null,
   "id": "10473e94-acf2-4d3d-9253-3ecc4fc26d24",
   "metadata": {
    "tags": []
   },
   "outputs": [],
   "source": [
    "# plot the data\n",
    "scatter(log10.(BOP_brayton.data.total_heat_load),BOP_brayton.data.thermal_efficiency_cycle,label=\"brayton\")\n",
    "scatter!(log10.(BOP_rankine.data.total_heat_load),BOP_rankine.data.thermal_efficiency_cycle,ylim=(0.1,0.5),label=\"rankine\",ylabel=\"thermal efficiency cycle\",xlabel=\"total heat supplied\")\n"
   ]
  },
  {
   "cell_type": "code",
   "execution_count": null,
   "id": "07610e19-597d-4975-97cd-560af793fdde",
   "metadata": {
    "tags": []
   },
   "outputs": [],
   "source": [
    "# Display data with sliders\n",
    "using Interact\n",
    "function log10range(start_value, stop_value, num_points)\n",
    "    return 10 .^ LinRange(log10(start_value), log10(stop_value), num_points)\n",
    "end\n",
    "\n",
    "total_heat_supplied = log10range(1e7,5e9,50)\n",
    "\n",
    "@manipulate for breeder_fraction in 0.5:0.025:0.9, divertor_fraction in 0.1:0.25:1.0\n",
    "    efficiencies = [BalanceOfPlantSurrogate.thermal_efficiency_fractions(BOP_brayton, p1, breeder_fraction, divertor_fraction) for p1 in total_heat_supplied]\n",
    "    plot(total_heat_supplied,efficiencies,marker=:circle, markersize=1, label=\"brayton\")\n",
    "\n",
    "    efficiencies = [BalanceOfPlantSurrogate.thermal_efficiency_fractions(BOP_rankine, p1, breeder_fraction, divertor_fraction) for p1 in total_heat_supplied]\n",
    "    plot!(total_heat_supplied,efficiencies,marker=:circle, markersize=1, label=\"rankine\")\n",
    "    \n",
    "    plot!(xlabel=\"total heat supplied [W]\",ylabel=\"thermal plant efficiency\", ylim=(0.0,0.9), xscale=:log10,)\n",
    "end\n"
   ]
  },
  {
   "cell_type": "code",
   "execution_count": null,
   "id": "723bc7fe-8208-4289-8c83-99fdadc864a8",
   "metadata": {},
   "outputs": [],
   "source": [
    "# Display data with sliders\n",
    "using Interact\n",
    "function log10range(start_value, stop_value, num_points)\n",
    "    return 10 .^ LinRange(log10(start_value), log10(stop_value), num_points)\n",
    "end\n",
    "\n",
    "total_heat_supplied = log10range(1e7,5e9,50)\n",
    "\n",
    "@manipulate for breeder_fraction in 0.5:0.025:0.9, divertor_fraction in 0.1:0.25:1.0\n",
    "    efficiencies = [BalanceOfPlantSurrogate.thermal_efficiency_fractions(BOP_brayton, p1, breeder_fraction, divertor_fraction) for p1 in total_heat_supplied]\n",
    "    plot(total_heat_supplied,efficiencies,marker=:circle, markersize=1, label=\"brayton\")\n",
    "\n",
    "    efficiencies = [BalanceOfPlantSurrogate.thermal_efficiency_fractions(BOP_rankine, p1, breeder_fraction, divertor_fraction) for p1 in total_heat_supplied]\n",
    "    plot!(total_heat_supplied,efficiencies,marker=:circle, markersize=1, label=\"rankine\")\n",
    "    \n",
    "    plot!(xlabel=\"total heat supplied [W]\",ylabel=\"thermal plant efficiency\", ylim=(0.0,0.9), xscale=:log10,)\n",
    "end\n"
   ]
  },
  {
   "cell_type": "code",
   "execution_count": null,
   "id": "fcf8f582-ddca-41aa-85f6-a83ea41c2d94",
   "metadata": {
    "tags": []
   },
   "outputs": [],
   "source": [
    "#divertor_heat_fraction = 0.2  # You can adjust this value\n",
    "cycle_lim = (0.0,0.6)\n",
    "#total_heat_supplied = log10range(1e5,5e9,20)\n",
    "\n",
    "#@manipulate for breeder_fraction in 0.5:0.05:0.9, divertor_fraction in 0.1:0.05:1.0\n",
    "@manipulate for total_heat in log10range(1e5,5e9,20)\n",
    "    # Create a grid of values\n",
    "    breed = collect(0.5:0.05:0.9)\n",
    "    div = collect(0.1:0.05:1.0)\n",
    "    efficiencies = [BalanceOfPlantSurrogate.thermal_efficiency_fractions(BOP_brayton, total_heat, p1,p2)\n",
    "                    for p1 in breed, p2 in div]\n",
    "#    @show efficiencies\n",
    "    surface(breed, div, efficiencies',\n",
    "            xlabel=\"total heat supplied [W]\", ylabel=\"breeder heat fraction\", zlabel=\"Thermal Efficiency\",xscale=:log10,\n",
    "            title=\"Efficiency vs. total heat supplied and breeder heat fraction RANKINE cycle\",zlim=cycle_lim)\n",
    "end"
   ]
  }
 ],
 "metadata": {
  "@webio": {
   "lastCommId": "730f21fa-c217-42d2-9a97-6947127119ee",
   "lastKernelId": "fd1b8fd2-5747-4c7d-8ab5-29a0731187e9"
  },
  "kernelspec": {
   "display_name": "Julia (8 threads) 1.10.4",
   "language": "julia",
   "name": "julia-_8-threads_-1.10"
  },
  "language_info": {
   "file_extension": ".jl",
   "mimetype": "application/julia",
   "name": "julia",
   "version": "1.10.4"
  }
 },
 "nbformat": 4,
 "nbformat_minor": 5
}
