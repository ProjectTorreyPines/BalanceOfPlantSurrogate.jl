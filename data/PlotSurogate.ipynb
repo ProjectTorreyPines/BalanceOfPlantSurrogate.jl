{
 "cells": [
  {
   "cell_type": "code",
   "execution_count": null,
   "id": "8a8cd1d6-c13d-480c-bc8e-7f6026671ad7",
   "metadata": {
    "tags": []
   },
   "outputs": [],
   "source": [
    "using Revise\n",
    "using Pkg\n",
    "Pkg.activate(\".\")\n",
    "using Plots\n",
    "using BalanceOfPlantSurogate"
   ]
  },
  {
   "cell_type": "code",
   "execution_count": null,
   "id": "f9bb2f0f-bba6-4907-966a-afe0c0a0d797",
   "metadata": {
    "tags": []
   },
   "outputs": [],
   "source": [
    "# get the model and data\n",
    "bop_sur_rankine = BalanceOfPlantSurogate.BOPSurogate(:rankine;data=\"BalanceOfPlantHypercubeN=10000.csv\")\n",
    "bop_sur_brayton = BalanceOfPlantSurogate.BOPSurogate(:brayton;data=\"BalanceOfPlantHypercubeN=10000.csv\")\n",
    "\n",
    "BalanceOfPlantSurogate.predict_thermal_efficiency_fractions(bop_sur_rankine,1e8,0.5,0.2), BalanceOfPlantSurogate.predict_thermal_efficiency_fractions(bop_sur_brayton,1e8,0.5,0.2)"
   ]
  },
  {
   "cell_type": "code",
   "execution_count": null,
   "id": "34d93e02-3c33-45d3-bdc7-df1c513f7e0d",
   "metadata": {},
   "outputs": [],
   "source": [
    "# plot the data\n",
    "scatter(log10.(bop_sur_brayton.data.total_heat_load),bop_sur_brayton.data.thermal_efficiency_plant,label=\"brayton\")\n",
    "scatter!(log10.(bop_sur_rankine.data.total_heat_load),bop_sur_rankine.data.thermal_efficiency_plant,ylim=(-1.0,1.0),label=\"rankine\",ylabel=\"thermal plant efficiency\",xlabel=\"total heat supplied\")\n"
   ]
  },
  {
   "cell_type": "code",
   "execution_count": null,
   "id": "07610e19-597d-4975-97cd-560af793fdde",
   "metadata": {
    "tags": []
   },
   "outputs": [],
   "source": [
    "# Display data with sliders\n",
    "\n",
    "function log10range(start_value, stop_value, num_points)\n",
    "    return 10 .^ LinRange(log10(start_value), log10(stop_value), num_points)\n",
    "end\n",
    "\n",
    "total_heat_supplied = log10range(1e7,5e9,50)\n",
    "\n",
    "@manipulate for breeder_fraction in 0.5:0.025:0.9, divertor_fraction in 0.1:0.25:1.0\n",
    "    efficiencies = [BalanceOfPlantSurogate.predict_thermal_efficiency_fractions(bop_sur_brayton, p1, breeder_fraction, divertor_fraction) for p1 in total_heat_supplied]\n",
    "    plot(total_heat_supplied,efficiencies,marker=:circle, markersize=1, label=\"brayton\")\n",
    "\n",
    "    efficiencies = [BalanceOfPlantSurogate.predict_thermal_efficiency_fractions(bop_sur_rankine, p1, breeder_fraction, divertor_fraction) for p1 in total_heat_supplied]\n",
    "    plot!(total_heat_supplied,efficiencies,marker=:circle, markersize=1, label=\"rankine\")\n",
    "    \n",
    "    plot!(xlabel=\"total heat supplied [W]\",ylabel=\"thermal plant efficiency\", ylim=(0.0,0.9), xscale=:log10,)\n",
    "end\n"
   ]
  },
  {
   "cell_type": "code",
   "execution_count": null,
   "id": "fcf8f582-ddca-41aa-85f6-a83ea41c2d94",
   "metadata": {
    "tags": []
   },
   "outputs": [],
   "source": [
    "#divertor_heat_fraction = 0.2  # You can adjust this value\n",
    "cycle_lim = (0.0,0.6)\n",
    "#total_heat_supplied = log10range(1e5,5e9,20)\n",
    "\n",
    "#@manipulate for breeder_fraction in 0.5:0.05:0.9, divertor_fraction in 0.1:0.05:1.0\n",
    "@manipulate for total_heat in log10range(1e5,5e9,20)\n",
    "    # Create a grid of values\n",
    "    breed = collect(0.5:0.05:0.9)\n",
    "    div = collect(0.1:0.05:1.0)\n",
    "    efficiencies = [BalanceOfPlantSurogate.predict_thermal_efficiency_fractions(bop_sur_brayton, total_heat, p1,p2)\n",
    "                    for p1 in breed, p2 in div]\n",
    "#    @show efficiencies\n",
    "    surface(breed, div, efficiencies',\n",
    "            xlabel=\"total heat supplied [W]\", ylabel=\"breeder heat fraction\", zlabel=\"Thermal Efficiency\",xscale=:log10,\n",
    "            title=\"Efficiency vs. total heat supplied and breeder heat fraction RANKINE cycle\",zlim=cycle_lim)\n",
    "end"
   ]
  }
 ],
 "metadata": {
  "@webio": {
   "lastCommId": "b7194529-3f6a-4144-8dc8-6ed07da80922",
   "lastKernelId": "b3317991-bee2-48f7-a8bc-2dc0bb39f355"
  },
  "kernelspec": {
   "display_name": "Julia (8 threads) 1.10.4",
   "language": "julia",
   "name": "julia-_8-threads_-1.10"
  },
  "language_info": {
   "file_extension": ".jl",
   "mimetype": "application/julia",
   "name": "julia",
   "version": "1.10.4"
  }
 },
 "nbformat": 4,
 "nbformat_minor": 5
}
